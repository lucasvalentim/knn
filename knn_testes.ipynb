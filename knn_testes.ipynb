{
 "cells": [
  {
   "cell_type": "code",
   "execution_count": 1,
   "metadata": {},
   "outputs": [],
   "source": [
    "import numpy as np\n",
    "import pandas as pd\n",
    "import matplotlib.pyplot as plt\n",
    "import seaborn as sns\n",
    "\n",
    "%matplotlib inline\n",
    "\n",
    "sns.set(style='darkgrid')"
   ]
  },
  {
   "cell_type": "code",
   "execution_count": 2,
   "metadata": {},
   "outputs": [],
   "source": [
    "df = pd.read_csv('dados.csv')"
   ]
  },
  {
   "cell_type": "code",
   "execution_count": 3,
   "metadata": {},
   "outputs": [
    {
     "data": {
      "text/html": [
       "<div>\n",
       "<style scoped>\n",
       "    .dataframe tbody tr th:only-of-type {\n",
       "        vertical-align: middle;\n",
       "    }\n",
       "\n",
       "    .dataframe tbody tr th {\n",
       "        vertical-align: top;\n",
       "    }\n",
       "\n",
       "    .dataframe thead th {\n",
       "        text-align: right;\n",
       "    }\n",
       "</style>\n",
       "<table border=\"1\" class=\"dataframe\">\n",
       "  <thead>\n",
       "    <tr style=\"text-align: right;\">\n",
       "      <th></th>\n",
       "      <th>x</th>\n",
       "      <th>y</th>\n",
       "      <th>cor</th>\n",
       "    </tr>\n",
       "  </thead>\n",
       "  <tbody>\n",
       "    <tr>\n",
       "      <th>0</th>\n",
       "      <td>0.194532</td>\n",
       "      <td>0.557258</td>\n",
       "      <td>azul</td>\n",
       "    </tr>\n",
       "    <tr>\n",
       "      <th>1</th>\n",
       "      <td>0.207838</td>\n",
       "      <td>0.495117</td>\n",
       "      <td>azul</td>\n",
       "    </tr>\n",
       "    <tr>\n",
       "      <th>2</th>\n",
       "      <td>0.774294</td>\n",
       "      <td>0.597206</td>\n",
       "      <td>vermelho</td>\n",
       "    </tr>\n",
       "    <tr>\n",
       "      <th>3</th>\n",
       "      <td>0.802807</td>\n",
       "      <td>0.488460</td>\n",
       "      <td>vermelho</td>\n",
       "    </tr>\n",
       "    <tr>\n",
       "      <th>4</th>\n",
       "      <td>0.139407</td>\n",
       "      <td>0.461828</td>\n",
       "      <td>azul</td>\n",
       "    </tr>\n",
       "  </tbody>\n",
       "</table>\n",
       "</div>"
      ],
      "text/plain": [
       "          x         y       cor\n",
       "0  0.194532  0.557258      azul\n",
       "1  0.207838  0.495117      azul\n",
       "2  0.774294  0.597206  vermelho\n",
       "3  0.802807  0.488460  vermelho\n",
       "4  0.139407  0.461828      azul"
      ]
     },
     "execution_count": 3,
     "metadata": {},
     "output_type": "execute_result"
    }
   ],
   "source": [
    "df.head()"
   ]
  },
  {
   "cell_type": "code",
   "execution_count": 4,
   "metadata": {},
   "outputs": [
    {
     "name": "stdout",
     "output_type": "stream",
     "text": [
      "<class 'pandas.core.frame.DataFrame'>\n",
      "RangeIndex: 100 entries, 0 to 99\n",
      "Data columns (total 3 columns):\n",
      "x      100 non-null float64\n",
      "y      100 non-null float64\n",
      "cor    100 non-null object\n",
      "dtypes: float64(2), object(1)\n",
      "memory usage: 2.4+ KB\n"
     ]
    }
   ],
   "source": [
    "df.info()"
   ]
  },
  {
   "cell_type": "code",
   "execution_count": 5,
   "metadata": {},
   "outputs": [
    {
     "data": {
      "text/html": [
       "<div>\n",
       "<style scoped>\n",
       "    .dataframe tbody tr th:only-of-type {\n",
       "        vertical-align: middle;\n",
       "    }\n",
       "\n",
       "    .dataframe tbody tr th {\n",
       "        vertical-align: top;\n",
       "    }\n",
       "\n",
       "    .dataframe thead th {\n",
       "        text-align: right;\n",
       "    }\n",
       "</style>\n",
       "<table border=\"1\" class=\"dataframe\">\n",
       "  <thead>\n",
       "    <tr style=\"text-align: right;\">\n",
       "      <th></th>\n",
       "      <th>x</th>\n",
       "      <th>y</th>\n",
       "    </tr>\n",
       "  </thead>\n",
       "  <tbody>\n",
       "    <tr>\n",
       "      <th>count</th>\n",
       "      <td>100.000000</td>\n",
       "      <td>100.000000</td>\n",
       "    </tr>\n",
       "    <tr>\n",
       "      <th>mean</th>\n",
       "      <td>0.455980</td>\n",
       "      <td>0.412682</td>\n",
       "    </tr>\n",
       "    <tr>\n",
       "      <th>std</th>\n",
       "      <td>0.271966</td>\n",
       "      <td>0.169570</td>\n",
       "    </tr>\n",
       "    <tr>\n",
       "      <th>min</th>\n",
       "      <td>0.053869</td>\n",
       "      <td>0.091201</td>\n",
       "    </tr>\n",
       "    <tr>\n",
       "      <th>25%</th>\n",
       "      <td>0.210690</td>\n",
       "      <td>0.296488</td>\n",
       "    </tr>\n",
       "    <tr>\n",
       "      <th>50%</th>\n",
       "      <td>0.414081</td>\n",
       "      <td>0.403016</td>\n",
       "    </tr>\n",
       "    <tr>\n",
       "      <th>75%</th>\n",
       "      <td>0.719004</td>\n",
       "      <td>0.536175</td>\n",
       "    </tr>\n",
       "    <tr>\n",
       "      <th>max</th>\n",
       "      <td>0.913056</td>\n",
       "      <td>0.785822</td>\n",
       "    </tr>\n",
       "  </tbody>\n",
       "</table>\n",
       "</div>"
      ],
      "text/plain": [
       "                x           y\n",
       "count  100.000000  100.000000\n",
       "mean     0.455980    0.412682\n",
       "std      0.271966    0.169570\n",
       "min      0.053869    0.091201\n",
       "25%      0.210690    0.296488\n",
       "50%      0.414081    0.403016\n",
       "75%      0.719004    0.536175\n",
       "max      0.913056    0.785822"
      ]
     },
     "execution_count": 5,
     "metadata": {},
     "output_type": "execute_result"
    }
   ],
   "source": [
    "df.describe()"
   ]
  },
  {
   "cell_type": "code",
   "execution_count": 6,
   "metadata": {},
   "outputs": [
    {
     "data": {
      "text/html": [
       "<div>\n",
       "<style scoped>\n",
       "    .dataframe tbody tr th:only-of-type {\n",
       "        vertical-align: middle;\n",
       "    }\n",
       "\n",
       "    .dataframe tbody tr th {\n",
       "        vertical-align: top;\n",
       "    }\n",
       "\n",
       "    .dataframe thead th {\n",
       "        text-align: right;\n",
       "    }\n",
       "</style>\n",
       "<table border=\"1\" class=\"dataframe\">\n",
       "  <thead>\n",
       "    <tr style=\"text-align: right;\">\n",
       "      <th></th>\n",
       "      <th>x</th>\n",
       "      <th>y</th>\n",
       "    </tr>\n",
       "    <tr>\n",
       "      <th>cor</th>\n",
       "      <th></th>\n",
       "      <th></th>\n",
       "    </tr>\n",
       "  </thead>\n",
       "  <tbody>\n",
       "    <tr>\n",
       "      <th>azul</th>\n",
       "      <td>50</td>\n",
       "      <td>50</td>\n",
       "    </tr>\n",
       "    <tr>\n",
       "      <th>vermelho</th>\n",
       "      <td>50</td>\n",
       "      <td>50</td>\n",
       "    </tr>\n",
       "  </tbody>\n",
       "</table>\n",
       "</div>"
      ],
      "text/plain": [
       "           x   y\n",
       "cor             \n",
       "azul      50  50\n",
       "vermelho  50  50"
      ]
     },
     "execution_count": 6,
     "metadata": {},
     "output_type": "execute_result"
    }
   ],
   "source": [
    "df.groupby('cor').count()"
   ]
  },
  {
   "cell_type": "code",
   "execution_count": 7,
   "metadata": {},
   "outputs": [
    {
     "data": {
      "text/plain": [
       "<seaborn.axisgrid.FacetGrid at 0x7fbbd7fc0978>"
      ]
     },
     "execution_count": 7,
     "metadata": {},
     "output_type": "execute_result"
    },
    {
     "data": {
      "image/png": "[encoded data removed]",
      "text/plain": [
       "<matplotlib.figure.Figure at 0x7fbbd7fc07b8>"
      ]
     },
     "metadata": {},
     "output_type": "display_data"
    }
   ],
   "source": [
    "sns.lmplot('x', 'y', data=df, hue='cor', fit_reg=False, size=6, palette='seismic')"
   ]
  },
  {
   "cell_type": "code",
   "execution_count": 8,
   "metadata": {},
   "outputs": [],
   "source": [
    "X = df[['x', 'y']].values\n",
    "y = df['cor'].map(lambda cor: 0 if cor == 'azul' else 1).values"
   ]
  },
  {
   "cell_type": "code",
   "execution_count": 9,
   "metadata": {},
   "outputs": [],
   "source": [
    "from knn import KNN"
   ]
  },
  {
   "cell_type": "code",
   "execution_count": 10,
   "metadata": {},
   "outputs": [],
   "source": [
    "modelo1 = KNN(k=3)"
   ]
  },
  {
   "cell_type": "code",
   "execution_count": 11,
   "metadata": {},
   "outputs": [],
   "source": [
    "modelo1.treinar(X, y)"
   ]
  },
  {
   "cell_type": "code",
   "execution_count": 12,
   "metadata": {
    "scrolled": true
   },
   "outputs": [
    {
     "data": {
      "text/plain": [
       "array([0.36, 0.57])"
      ]
     },
     "execution_count": 12,
     "metadata": {},
     "output_type": "execute_result"
    }
   ],
   "source": [
    "x = np.array([0.36, 0.57])\n",
    "x"
   ]
  },
  {
   "cell_type": "code",
   "execution_count": 13,
   "metadata": {},
   "outputs": [
    {
     "data": {
      "text/plain": [
       "1"
      ]
     },
     "execution_count": 13,
     "metadata": {},
     "output_type": "execute_result"
    }
   ],
   "source": [
    "modelo1.classificar(x)"
   ]
  },
  {
   "cell_type": "code",
   "execution_count": 14,
   "metadata": {},
   "outputs": [
    {
     "data": {
      "text/plain": [
       "[(0.1234734991175807, 1),\n",
       " (0.1291019059565619, 0),\n",
       " (0.1325561192475315, 1),\n",
       " (0.13409588673843567, 0),\n",
       " (0.14119152566879922, 0),\n",
       " (0.1469835958266315, 1),\n",
       " (0.15241764314288145, 0),\n",
       " (0.16595760234994975, 0),\n",
       " (0.16958947713286537, 0),\n",
       " (0.18667406060083622, 0),\n",
       " (0.1901897159350711, 0),\n",
       " (0.19409795867717228, 0),\n",
       " (0.19615658102588782, 1),\n",
       " (0.1982232554392985, 0),\n",
       " (0.208541542989762, 1),\n",
       " (0.21332675509254861, 1),\n",
       " (0.21863526964752372, 0),\n",
       " (0.22003202713270256, 1),\n",
       " (0.22219315937194553, 0),\n",
       " (0.224569728048387, 1),\n",
       " (0.2265475621092151, 1),\n",
       " (0.22963230448412617, 0),\n",
       " (0.2393691160493264, 0),\n",
       " (0.24568751640010855, 0),\n",
       " (0.25106855429962815, 0),\n",
       " (0.2569483215228503, 0),\n",
       " (0.26015139524927694, 0),\n",
       " (0.2623550235716115, 1),\n",
       " (0.26506081289980443, 1),\n",
       " (0.2651051751694414, 1),\n",
       " (0.26614848956851067, 1),\n",
       " (0.2682216346701311, 0),\n",
       " (0.2698428351630133, 0),\n",
       " (0.27276702952460136, 0),\n",
       " (0.2803895249488683, 0),\n",
       " (0.2814674644403975, 1),\n",
       " (0.2827872367680708, 0),\n",
       " (0.28580869406567216, 1),\n",
       " (0.29894099094369947, 0),\n",
       " (0.3018270613346196, 0),\n",
       " (0.3055977016123544, 1),\n",
       " (0.31937452714783615, 0),\n",
       " (0.32407712929400706, 0),\n",
       " (0.32687573088862376, 0),\n",
       " (0.327102519775744, 1),\n",
       " (0.3342119532943318, 0),\n",
       " (0.33598694272168894, 1),\n",
       " (0.33775179425055885, 0),\n",
       " (0.33936754288368337, 1),\n",
       " (0.3410280494481253, 1),\n",
       " (0.3428589318751886, 0),\n",
       " (0.35167989647425296, 0),\n",
       " (0.3542045573481578, 0),\n",
       " (0.36176824206010105, 1),\n",
       " (0.36868371213144174, 1),\n",
       " (0.3718618821608704, 1),\n",
       " (0.3806056650601303, 1),\n",
       " (0.3846345413176216, 0),\n",
       " (0.38507965368834324, 1),\n",
       " (0.38637201660167114, 1),\n",
       " (0.38970220691457974, 0),\n",
       " (0.40173507325467117, 0),\n",
       " (0.40433042806209046, 1),\n",
       " (0.4151860446622555, 1),\n",
       " (0.4152981518251199, 0),\n",
       " (0.41537691808505134, 0),\n",
       " (0.41575498360010765, 1),\n",
       " (0.41732918084811627, 1),\n",
       " (0.42156813290624123, 1),\n",
       " (0.42890808463482194, 0),\n",
       " (0.4317496702859282, 0),\n",
       " (0.4478907283554446, 1),\n",
       " (0.4488834956555142, 1),\n",
       " (0.450251593738608, 1),\n",
       " (0.45047937106607017, 0),\n",
       " (0.45121820241542393, 0),\n",
       " (0.4549923769496188, 1),\n",
       " (0.45720729289878664, 1),\n",
       " (0.4583936269779058, 0),\n",
       " (0.4584240729265402, 1),\n",
       " (0.468245544439319, 0),\n",
       " (0.4695187985302049, 1),\n",
       " (0.4765579231178693, 0),\n",
       " (0.47684852131859995, 0),\n",
       " (0.48504600311229995, 1),\n",
       " (0.49888875828985974, 0),\n",
       " (0.5016997529593357, 1),\n",
       " (0.5028117097411775, 1),\n",
       " (0.507931940661462, 1),\n",
       " (0.5151365321285133, 0),\n",
       " (0.518820285814506, 0),\n",
       " (0.5255917966368896, 0),\n",
       " (0.525879464923581, 1),\n",
       " (0.5292245212486979, 1),\n",
       " (0.5303073560212482, 1),\n",
       " (0.532056893819866, 1),\n",
       " (0.5340712358049792, 1),\n",
       " (0.5384761912907478, 1),\n",
       " (0.5692481141334871, 1),\n",
       " (0.5764207081719606, 1)]"
      ]
     },
     "execution_count": 14,
     "metadata": {},
     "output_type": "execute_result"
    }
   ],
   "source": [
    "modelo1.vizinhos"
   ]
  },
  {
   "cell_type": "code",
   "execution_count": 15,
   "metadata": {},
   "outputs": [],
   "source": [
    "modelo2 = KNN(k=5, metrica='manhattan')"
   ]
  },
  {
   "cell_type": "code",
   "execution_count": 16,
   "metadata": {},
   "outputs": [],
   "source": [
    "modelo2.treinar(X, y)"
   ]
  },
  {
   "cell_type": "code",
   "execution_count": 17,
   "metadata": {},
   "outputs": [
    {
     "data": {
      "text/plain": [
       "array([0.45, 0.38])"
      ]
     },
     "execution_count": 17,
     "metadata": {},
     "output_type": "execute_result"
    }
   ],
   "source": [
    "x = np.array([0.45, 0.38])\n",
    "x"
   ]
  },
  {
   "cell_type": "code",
   "execution_count": 18,
   "metadata": {},
   "outputs": [
    {
     "data": {
      "text/plain": [
       "0"
      ]
     },
     "execution_count": 18,
     "metadata": {},
     "output_type": "execute_result"
    }
   ],
   "source": [
    "modelo2.classificar(x)"
   ]
  },
  {
   "cell_type": "code",
   "execution_count": 19,
   "metadata": {},
   "outputs": [
    {
     "data": {
      "text/plain": [
       "[(0.117310850933593, 0),\n",
       " (0.1557089750863429, 0),\n",
       " (0.17521188918916025, 1),\n",
       " (0.182745835153938, 1),\n",
       " (0.18607010195710538, 0),\n",
       " (0.18895612934743383, 0),\n",
       " (0.18957320485135593, 0),\n",
       " (0.19565100443854488, 1),\n",
       " (0.19975708186833463, 0),\n",
       " (0.20401343338630523, 1),\n",
       " (0.21172671174954194, 0),\n",
       " (0.22181763331448662, 1),\n",
       " (0.23430787016988314, 0),\n",
       " (0.2457358243422224, 0),\n",
       " (0.24928576502862515, 1),\n",
       " (0.2536321136174093, 1),\n",
       " (0.25517759532264367, 0),\n",
       " (0.2665331080811492, 0),\n",
       " (0.27036460102239324, 0),\n",
       " (0.2751643701908058, 0),\n",
       " (0.27739361748714714, 0),\n",
       " (0.2822769706565561, 1),\n",
       " (0.29039804824691584, 0),\n",
       " (0.2906066627805474, 1),\n",
       " (0.2926074432482248, 0),\n",
       " (0.29802428792055974, 0),\n",
       " (0.29947468297149926, 0),\n",
       " (0.3114664617857918, 1),\n",
       " (0.3116430012388221, 1),\n",
       " (0.31388513306390015, 1),\n",
       " (0.3178959584036031, 0),\n",
       " (0.3284578562051559, 0),\n",
       " (0.3296493442417154, 0),\n",
       " (0.33764088560698874, 1),\n",
       " (0.3411438230654475, 0),\n",
       " (0.3429851234296982, 0),\n",
       " (0.34651800476649713, 0),\n",
       " (0.3476085185808722, 1),\n",
       " (0.35174263251163645, 1),\n",
       " (0.35378032462394976, 1),\n",
       " (0.35727925269733324, 0),\n",
       " (0.3591106269140678, 0),\n",
       " (0.36457831876363017, 1),\n",
       " (0.36736508467879664, 1),\n",
       " (0.3705058442626381, 0),\n",
       " (0.3720852792312879, 0),\n",
       " (0.37285141238374475, 1),\n",
       " (0.3765331859332866, 1),\n",
       " (0.3892357936879432, 1),\n",
       " (0.3924202964414761, 0),\n",
       " (0.393425318877489, 0),\n",
       " (0.40089674957594923, 0),\n",
       " (0.4012046255847425, 1),\n",
       " (0.40415087160333557, 0),\n",
       " (0.40993301796730014, 1),\n",
       " (0.4110670803210233, 1),\n",
       " (0.41411275325057, 1),\n",
       " (0.4178251324216199, 1),\n",
       " (0.41811085949732824, 1),\n",
       " (0.4183796926592246, 1),\n",
       " (0.42007406657720164, 0),\n",
       " (0.4235176125863551, 0),\n",
       " (0.4327262456098694, 0),\n",
       " (0.4338978813513963, 0),\n",
       " (0.4398289199281035, 1),\n",
       " (0.44006797464745145, 1),\n",
       " (0.4406254932662767, 1),\n",
       " (0.4491515771383305, 1),\n",
       " (0.4510482595668112, 0),\n",
       " (0.4612660898472054, 1),\n",
       " (0.4618363275589755, 0),\n",
       " (0.466500478304069, 1),\n",
       " (0.46969871222833254, 1),\n",
       " (0.4699638766082547, 1),\n",
       " (0.47096676784200675, 1),\n",
       " (0.47146686077799577, 1),\n",
       " (0.4773785433670466, 0),\n",
       " (0.48279242965816105, 0),\n",
       " (0.48616649263470124, 0),\n",
       " (0.488425518373591, 0),\n",
       " (0.49101309959526607, 1),\n",
       " (0.5033436909114442, 0),\n",
       " (0.517617967884047, 0),\n",
       " (0.5182521027375728, 1),\n",
       " (0.5386139400090892, 1),\n",
       " (0.5414999673994174, 1),\n",
       " (0.5422063782309854, 1),\n",
       " (0.546386775257423, 0),\n",
       " (0.550218268198667, 0),\n",
       " (0.5507254943367434, 1),\n",
       " (0.5545867657205361, 1),\n",
       " (0.5547065412338981, 0),\n",
       " (0.5668381132923765, 1),\n",
       " (0.5910314435051367, 1),\n",
       " (0.5955898613161488, 0),\n",
       " (0.5978490524908304, 1),\n",
       " (0.6057012969192936, 0),\n",
       " (0.6250084810172161, 0),\n",
       " (0.6390607626200746, 1),\n",
       " (0.724031894074382, 1)]"
      ]
     },
     "execution_count": 19,
     "metadata": {},
     "output_type": "execute_result"
    }
   ],
   "source": [
    "modelo2.vizinhos"
   ]
  }
 ],
 "metadata": {
  "kernelspec": {
   "display_name": "Python 3",
   "language": "python",
   "name": "python3"
  },
  "language_info": {
   "codemirror_mode": {
    "name": "ipython",
    "version": 3
   },
   "file_extension": ".py",
   "mimetype": "text/x-python",
   "name": "python",
   "nbconvert_exporter": "python",
   "pygments_lexer": "ipython3",
   "version": "3.6.4"
  }
 },
 "nbformat": 4,
 "nbformat_minor": 2
}
